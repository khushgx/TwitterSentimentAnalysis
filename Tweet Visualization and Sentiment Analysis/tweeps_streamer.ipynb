{
 "cells": [
  {
   "cell_type": "code",
   "execution_count": null,
   "id": "cultural-exploration",
   "metadata": {},
   "outputs": [],
   "source": []
  },
  {
   "cell_type": "code",
   "execution_count": 77,
   "id": "saving-teacher",
   "metadata": {},
   "outputs": [],
   "source": [
    "from tweepy.streaming import StreamListener\n",
    "from tweepy import OAuthHandler\n",
    "from tweepy import Stream\n",
    "from tweepy import API\n",
    "from tweepy import Cursor\n",
    "from textblob import TextBlob\n",
    "import pandas as pd\n",
    "import numpy as np\n",
    "import matplotlib.pyplot as plt\n",
    "import credentials\n",
    "import re\n"
   ]
  },
  {
   "cell_type": "code",
   "execution_count": 51,
   "id": "hairy-constitutional",
   "metadata": {},
   "outputs": [],
   "source": [
    "#specific twitter user client class \n",
    "\n",
    "class TwitterClient():\n",
    "    \n",
    "    def __init__(self, twitter_user = None):\n",
    "        \n",
    "        self.auth = TwitterAuthenticator().authenticate_twitter_app()\n",
    "        self.twitterclient = API(self.auth)\n",
    "        self.twitter_user = twitter_user\n",
    "        \n",
    "    def get_client_api(self):\n",
    "        return self.twitterclient\n",
    "        \n",
    "    #Gets tweets off of users timeline using Cursor and API class. Uses num_tweets to get a specific amount    \n",
    "    def get_user_timeline_tweets(self, num_tweets):\n",
    "        tweets = []\n",
    "        #loops through every tweet that cursor has and adds it to list tweets\n",
    "        for tweet in Cursor(self.twitterclient.user_timeline, id = self.twitter_user).items(num_tweets):\n",
    "            tweets.append(tweet)\n",
    "        return tweets\n",
    "    \n",
    "     #Gets friends off of user using Cursor and API class. Uses num_tweets to get a specific amount\n",
    "    def get_friend_list(self, num_friends):\n",
    "        friend_list = []\n",
    "        for friend in Cursor(self.twitterclient.friends).items(num_friends):\n",
    "            friends_list.append(friend)\n",
    "        return friend_list\n",
    "    \n",
    "     #Gets home timeline off of user using Cursor and API class. Uses num_tweets to get a specific amount\n",
    "    def get_home_timeline_tweets(self, num_tweets):\n",
    "        home = []\n",
    "        for tweets in Cursor(self.twitterclient.home_timeline, id = self.twitter_user).items(num_friends):\n",
    "            home.append(tweets)\n",
    "        return home"
   ]
  },
  {
   "cell_type": "code",
   "execution_count": 52,
   "id": "becoming-differential",
   "metadata": {},
   "outputs": [],
   "source": [
    "#api authentication\n",
    "\n",
    "class TwitterAuthenticator():\n",
    "    def authenticate_twitter_app(self):\n",
    "        auth = OAuthHandler(credentials.API_KEY, credentials.API_SECRET)\n",
    "        auth.set_access_token(credentials.ACCESS_TOKEN, credentials.ACCESS_TOKEN_SECRET)\n",
    "        return auth"
   ]
  },
  {
   "cell_type": "code",
   "execution_count": 53,
   "id": "ordinary-barrier",
   "metadata": {},
   "outputs": [],
   "source": [
    "#streaming and processing live tweets\n",
    "\n",
    "class TwitterStreamer():\n",
    "    \n",
    "    def __init__(self):\n",
    "        self.twitter_authenticator = TwitterAuthenticator()\n",
    "    \n",
    "    def streamtweets(self, fetched_tweets_filename, hashtag_list):\n",
    "        #authenticates the app\n",
    "        listener = TwitterListener(fetched_tweets_filename)\n",
    "        auth = self.twitter_authenticator.authenticate_twitter_app()\n",
    "        stream = Stream(auth, listener)\n",
    "        \n",
    "        #filters twitter stream for specific hashtags\n",
    "        stream.filter(track = hashtag_list)\n"
   ]
  },
  {
   "cell_type": "code",
   "execution_count": 54,
   "id": "ceramic-relative",
   "metadata": {},
   "outputs": [],
   "source": [
    "#prints out tweets to twitter listener\n",
    "class TwitterListener(StreamListener):\n",
    "    \n",
    "    def __init__(self, fetched_tweets_filename):\n",
    "        self.fetched_tweets_filename = fetched_tweets_filename\n",
    "    \n",
    "    #Overidden Method that takes in the data from StreamListener (Tweets)\n",
    "    \n",
    "    def on_data(self, data):\n",
    "        \n",
    "        try: \n",
    "            print(data)\n",
    "            with open(self.fetched_tweets_filename, 'a') as tf:\n",
    "                tf.write(data)\n",
    "            return True\n",
    "        except BaseException as e: \n",
    "            print('Error on Data : %s' % str(e))\n",
    "            \n",
    "        return True\n",
    "    \n",
    "    #Overiden method that happens when an error occurs like rate limits\n",
    "    \n",
    "    def on_error(self, status):\n",
    "        \n",
    "        if status == 420:\n",
    "            #returns false if rate limit occurs\n",
    "            return False\n",
    "        \n",
    "        print(status)\n",
    "        \n",
    "                "
   ]
  },
  {
   "cell_type": "code",
   "execution_count": 83,
   "id": "cordless-external",
   "metadata": {},
   "outputs": [],
   "source": [
    "\n",
    "\n",
    "#anlayzes and categorizes the tweet\n",
    "\n",
    "class TweetAnalyzer():\n",
    "    \n",
    "    def clean_tweet(self, tweet):\n",
    "        return ' '.join(re.sub(\"(@[A-Za-z0-9]+)|([^0-9A-Za-z \\t])|(\\w+:\\/\\/\\S+)\", \" \", tweet).split())\n",
    "    \n",
    "    def analyze_sentiment(self, tweet):\n",
    "        \n",
    "        analysis = TextBlob(self.clean_tweet(tweet))\n",
    "        \n",
    "        # Tests if the tweet was interpreted positively, neutral, or negative\n",
    "        if analysis.sentiment.polarity > 0:\n",
    "            return 1\n",
    "        elif analysis.sentiment.polarity == 0:\n",
    "            return 0\n",
    "        else: \n",
    "            return -1\n",
    "    \n",
    "    def tweets_to_df(self, tweets):\n",
    "        \n",
    "        df = pd.DataFrame(data = [tweet.text for tweet in tweets], columns = ['tweets'])\n",
    "        df['id'] = np.array([tweet.id for tweet in tweets])\n",
    "        df['len'] = np.array([len(tweet.text) for tweet in tweets])\n",
    "        df['date'] = np.array([tweet.created_at for tweet in tweets])\n",
    "        df['source'] = np.array([tweet.source for tweet in tweets])\n",
    "        df['likes'] = np.array([tweet.favorite_count for tweet in tweets])\n",
    "        df['retweets'] = np.array([tweet.retweet_count for tweet in tweets])\n",
    "        \n",
    "        return df"
   ]
  },
  {
   "cell_type": "code",
   "execution_count": 86,
   "id": "extensive-night",
   "metadata": {},
   "outputs": [
    {
     "name": "stdout",
     "output_type": "stream",
     "text": [
      "                                              tweets                   id  \\\n",
      "0  Grassroots supporters made it possible for us ...  1398663242675806212   \n",
      "1  Before we took office, the economy added back ...  1398385137402843137   \n",
      "2  To put it simply, America's coming back. https...  1398335999349035012   \n",
      "3  RT @POTUS: America is on the move again. We’ve...  1398293173349277704   \n",
      "4  This is our moment to rebuild an economy from ...  1398083579075350528   \n",
      "5  The Biden economic plan is working. https://t....  1398039819947741185   \n",
      "6  RT @POTUS: Tune in as I deliver remarks on our...  1397980959723696137   \n",
      "7  RT @POTUS: We are still awaiting many of the d...  1397694754528313350   \n",
      "8  Enjoyed meeting with Maria and Dreamers this m...  1397655816426119173   \n",
      "9  Across the country, we have failed to properly...  1397297809410433027   \n",
      "\n",
      "   len                date                source  likes  retweets  sentiment  \n",
      "0  140 2021-05-29 15:31:17       Twitter Web App   6534      1009          0  \n",
      "1  138 2021-05-28 21:06:12       Twitter Web App  57810      6926          0  \n",
      "2   64 2021-05-28 17:50:56  Twitter Media Studio  15924      1721          0  \n",
      "3  139 2021-05-28 15:00:46       Twitter Web App      0      2464          1  \n",
      "4  140 2021-05-28 01:07:55       Twitter Web App  43120      5222         -1  \n",
      "5   59 2021-05-27 22:14:02  Twitter Media Studio  15951      1880          1  \n",
      "6  124 2021-05-27 18:20:08       Twitter Web App      0      1146          1  \n",
      "7  139 2021-05-26 23:22:52    Twitter for iPhone      0      7771          1  \n",
      "8  129 2021-05-26 20:48:08  Twitter Media Studio  11164      1423          1  \n",
      "9  139 2021-05-25 21:05:32       Twitter Web App  39819      4821         -1  \n"
     ]
    }
   ],
   "source": [
    "\n",
    "    twitter_client = TwitterClient()\n",
    "    tweet_analyzer = TweetAnalyzer()\n",
    "    \n",
    "    api = twitter_client.get_client_api()\n",
    "    \n",
    "    tweets = api.user_timeline(screen_name=\"JoeBiden\", count=200)\n",
    "    \n",
    "    df = tweet_analyzer.tweets_to_df(tweets)\n",
    "  \n",
    "  \n",
    "    #adding sentiment column to dataframe\n",
    "    df['sentiment'] = np.array([tweet_analyzer.analyze_sentiment(tweet) for tweet in df['tweets']])\n",
    "    \n",
    "    print(df.head(10))"
   ]
  },
  {
   "cell_type": "code",
   "execution_count": 78,
   "id": "saving-price",
   "metadata": {},
   "outputs": [
    {
     "name": "stdout",
     "output_type": "stream",
     "text": [
      "Mean tweets 130.375\n",
      "Max tweets 243309\n",
      "Max Retweets 34776\n"
     ]
    }
   ],
   "source": [
    "    #get average length of tweets\n",
    "    print(\"Mean tweets\", np.mean(df['len']))\n",
    "    \n",
    "    #get number of likes for most liked tweets\n",
    "    print(\"Max tweets\", np.max(df['likes']))\n",
    "    \n",
    "    #get number of retweets for most retweets tweets\n",
    "    print(\"Max Retweets\", np.max(df['retweets']))"
   ]
  },
  {
   "cell_type": "code",
   "execution_count": 79,
   "id": "temporal-shield",
   "metadata": {},
   "outputs": [
    {
     "data": {
      "image/png": "[encoded data removed]",
      "text/plain": [
       "<Figure size 1152x288 with 1 Axes>"
      ]
     },
     "metadata": {
      "needs_background": "light"
     },
     "output_type": "display_data"
    }
   ],
   "source": [
    "    #Layered Time Series:#\n",
    "    \n",
    "    time_likes = pd.Series(data=df['likes'].values, index=df['date'])\n",
    "    time_likes.plot(figsize=(16, 4), label=\"likes\", legend=True)\n",
    "\n",
    "    time_retweets = pd.Series(data=df['retweets'].values, index=df['date'])\n",
    "    time_retweets.plot(figsize=(16, 4), label=\"retweets\", legend=True)\n",
    "    plt.show()"
   ]
  },
  {
   "cell_type": "code",
   "execution_count": null,
   "id": "thousand-india",
   "metadata": {},
   "outputs": [],
   "source": []
  },
  {
   "cell_type": "code",
   "execution_count": null,
   "id": "parliamentary-electricity",
   "metadata": {},
   "outputs": [],
   "source": []
  }
 ],
 "metadata": {
  "kernelspec": {
   "display_name": "Python 3",
   "language": "python",
   "name": "python3"
  },
  "language_info": {
   "codemirror_mode": {
    "name": "ipython",
    "version": 3
   },
   "file_extension": ".py",
   "mimetype": "text/x-python",
   "name": "python",
   "nbconvert_exporter": "python",
   "pygments_lexer": "ipython3",
   "version": "3.8.5"
  }
 },
 "nbformat": 4,
 "nbformat_minor": 5
}
